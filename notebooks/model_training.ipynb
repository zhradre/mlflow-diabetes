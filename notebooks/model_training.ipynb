{
 "cells": [
  {
   "cell_type": "code",
   "execution_count": null,
   "id": "643dd38c",
   "metadata": {},
   "outputs": [],
   "source": [
    "import pandas as pd\n",
    "import mlflow\n",
    "import mlflow.sklearn\n",
    "from sklearn.model_selection import train_test_split, GridSearchCV\n",
    "from sklearn.linear_model import LogisticRegression\n",
    "from sklearn.metrics import accuracy_score, f1_score\n",
    "from sklearn.preprocessing import OneHotEncoder\n",
    "from sklearn.compose import ColumnTransformer\n",
    "from sklearn.pipeline import Pipeline\n"
   ]
  },
  {
   "cell_type": "code",
   "execution_count": null,
   "id": "cb18b09f",
   "metadata": {},
   "outputs": [],
   "source": [
    "# 1. Load dataset\n",
    "df = pd.read_csv(\"data/diabetes_risk_dataset.csv\")\n",
    "\n",
    "# 2. Separate features and target\n",
    "X = df.drop(\"at_risk_diabetes\", axis=1)\n",
    "y = df[\"at_risk_diabetes\"]"
   ]
  },
  {
   "cell_type": "code",
   "execution_count": null,
   "id": "46880f51",
   "metadata": {},
   "outputs": [],
   "source": [
    "#  One-hot encode categorical feature\n",
    "categorical_features = [\"physical_activity_level\"]\n",
    "categorical_transformer = OneHotEncoder(handle_unknown=\"ignore\")\n",
    "\n",
    "# Preprocessing pipeline \n",
    "preprocessor = ColumnTransformer(\n",
    "    transformers=[(\"cat\", categorical_transformer, categorical_features)],\n",
    "    remainder=\"passthrough\"\n",
    ")\n",
    "\n",
    "pipeline = Pipeline(steps=[\n",
    "    (\"preprocessor\", preprocessor),\n",
    "    (\"classifier\", LogisticRegression(max_iter=1000))\n",
    "])"
   ]
  },
  {
   "cell_type": "code",
   "execution_count": null,
   "id": "bcb2defd",
   "metadata": {},
   "outputs": [],
   "source": [
    "#  Split dataset into training and test sets\n",
    "X_train, X_test, y_train, y_test = train_test_split(X, y, test_size=0.2, random_state=42)"
   ]
  },
  {
   "cell_type": "code",
   "execution_count": null,
   "id": "50c09ec6",
   "metadata": {},
   "outputs": [],
   "source": [
    "# Set MLflow experiment name\n",
    "mlflow.set_experiment(\"Diabetes Risk Prediction\")\n",
    "\n",
    "# Define hyperparameter grid for tuning\n",
    "param_grid = {\n",
    "    \"classifier__C\": [0.01, 0.1, 1, 10],\n",
    "    \"classifier__penalty\": [\"l2\"],\n",
    "    \"classifier__solver\": [\"lbfgs\"]\n",
    "}\n",
    "\n",
    "# Use GridSearchCV to find best hyperparameters\n",
    "grid = GridSearchCV(pipeline, param_grid, cv=3, scoring=\"f1\")\n",
    "\n",
    "# Start MLflow run and train model\n",
    "with mlflow.start_run(run_name=\"LogReg_GridSearch\"):\n",
    "    grid.fit(X_train, y_train)\n",
    "    y_pred = grid.predict(X_test)\n",
    "\n",
    "    #  Calculate evaluation metrics\n",
    "    acc = accuracy_score(y_test, y_pred)\n",
    "    f1 = f1_score(y_test, y_pred)\n",
    "\n",
    "    # Log best hyperparameters and metrics to MLflow\n",
    "    mlflow.log_params(grid.best_params_)\n",
    "    mlflow.log_metric(\"accuracy\", acc)\n",
    "    mlflow.log_metric(\"f1_score\", f1)\n",
    "\n",
    "    # Log the trained model\n",
    "    mlflow.sklearn.log_model(grid.best_estimator_, \"model\")\n",
    "\n",
    "print(\"Best Parameters:\", grid.best_params_)"
   ]
  }
 ],
 "metadata": {
  "kernelspec": {
   "display_name": "mlflow-diabetes-AEK7N6t_-py3.10",
   "language": "python",
   "name": "python3"
  },
  "language_info": {
   "codemirror_mode": {
    "name": "ipython",
    "version": 3
   },
   "file_extension": ".py",
   "mimetype": "text/x-python",
   "name": "python",
   "nbconvert_exporter": "python",
   "pygments_lexer": "ipython3",
   "version": "3.10.12"
  }
 },
 "nbformat": 4,
 "nbformat_minor": 5
}
